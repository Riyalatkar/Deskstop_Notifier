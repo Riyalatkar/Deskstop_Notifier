{
 "cells": [
  {
   "cell_type": "code",
   "execution_count": 42,
   "id": "e51cad1e",
   "metadata": {},
   "outputs": [],
   "source": [
    "import random\n",
    "import time\n",
    "from plyer import notification "
   ]
  },
  {
   "cell_type": "code",
   "execution_count": 43,
   "id": "b3426803",
   "metadata": {},
   "outputs": [],
   "source": [
    "# Open the file for reading\n",
    "file = open(r\"C:\\Users\\Lenovo\\Downloads\\Oxford English Dictionary ( PDFDrive ).txt\", \"r\",encoding=\"mbcs\")\n",
    "dict_list=[]\n"
   ]
  },
  {
   "cell_type": "code",
   "execution_count": 44,
   "id": "60c11098",
   "metadata": {},
   "outputs": [],
   "source": [
    "for line in file:\n",
    "    if len(line)>1 and len(line)<257:\n",
    "        if line!=\" \":\n",
    "            dict_list.append(line)\n",
    "    else:\n",
    "        continue\n",
    "    \n",
    "    \n",
    "\n",
    "# Close the file\n",
    "file.close()\n"
   ]
  },
  {
   "cell_type": "code",
   "execution_count": 50,
   "id": "57bbd800",
   "metadata": {},
   "outputs": [
    {
     "name": "stdout",
     "output_type": "stream",
     "text": [
      "34025\n"
     ]
    }
   ],
   "source": [
    "print(len(dict_list))\n",
    "size=len(dict_list)"
   ]
  },
  {
   "cell_type": "code",
   "execution_count": 46,
   "id": "f410be37",
   "metadata": {},
   "outputs": [
    {
     "name": "stdout",
     "output_type": "stream",
     "text": [
      "Animality  n. 1 the animal world. 2 animal behaviour.\n",
      "\n"
     ]
    }
   ],
   "source": [
    "print(dict_list[1000])"
   ]
  },
  {
   "cell_type": "code",
   "execution_count": 33,
   "id": "3d6a2fa8",
   "metadata": {},
   "outputs": [],
   "source": [
    "random_number=random.randint(0, size-1)"
   ]
  },
  {
   "cell_type": "code",
   "execution_count": 34,
   "id": "d5f2bdc3",
   "metadata": {},
   "outputs": [
    {
     "name": "stdout",
     "output_type": "stream",
     "text": [
      "20240\n"
     ]
    }
   ],
   "source": [
    "print(random_number)"
   ]
  },
  {
   "cell_type": "code",
   "execution_count": 53,
   "id": "ca9c2cab",
   "metadata": {},
   "outputs": [],
   "source": [
    "for i in range(2):\n",
    "    random_number=random.randint(0, size-1)\n",
    "    notification.notify(title = \"Word for today\",\n",
    "    message =dict_list[random_number],\n",
    "    app_icon =r\"C:\\Users\\Lenovo\\Downloads\\Icons-Land-Flat-Emoticons-Study.ico\",\n",
    " #app_icon = \"path to your .ico file\",\n",
    "    timeout= 20 )\n",
    "    time.sleep(6)\n",
    "    dict_list.pop(random_number)\n",
    "\n",
    "        "
   ]
  },
  {
   "cell_type": "code",
   "execution_count": null,
   "id": "318b3831",
   "metadata": {},
   "outputs": [],
   "source": []
  }
 ],
 "metadata": {
  "kernelspec": {
   "display_name": "Python 3 (ipykernel)",
   "language": "python",
   "name": "python3"
  },
  "language_info": {
   "codemirror_mode": {
    "name": "ipython",
    "version": 3
   },
   "file_extension": ".py",
   "mimetype": "text/x-python",
   "name": "python",
   "nbconvert_exporter": "python",
   "pygments_lexer": "ipython3",
   "version": "3.10.4"
  }
 },
 "nbformat": 4,
 "nbformat_minor": 5
}
