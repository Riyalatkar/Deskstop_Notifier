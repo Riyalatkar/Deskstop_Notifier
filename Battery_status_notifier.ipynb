{
 "cells": [
  {
   "cell_type": "code",
   "execution_count": 26,
   "id": "4f950eba",
   "metadata": {},
   "outputs": [],
   "source": [
    "from plyer import notification \n",
    "import psutil\n"
   ]
  },
  {
   "cell_type": "code",
   "execution_count": 32,
   "id": "c3f1cb53",
   "metadata": {},
   "outputs": [],
   "source": [
    "battery = psutil.sensors_battery()\n",
    "plugged=battery.power_plugged\n",
    "bpercent=battery.percent\n",
    "sec=battery.secsleft"
   ]
  },
  {
   "cell_type": "code",
   "execution_count": 28,
   "id": "adfc7351",
   "metadata": {},
   "outputs": [
    {
     "name": "stdout",
     "output_type": "stream",
     "text": [
      "sbattery(percent=42, secsleft=10564, power_plugged=False)\n"
     ]
    }
   ],
   "source": [
    "print(battery)\n"
   ]
  },
  {
   "cell_type": "code",
   "execution_count": 33,
   "id": "9e9c5957",
   "metadata": {},
   "outputs": [],
   "source": [
    "min=0\n",
    "hour=0\n",
    "while sec>=60:\n",
    "    sec=sec-60\n",
    "    min=min+1\n",
    "    if min%60==0:\n",
    "        hour=hour+1\n",
    "        min=min-60\n",
    "    \n"
   ]
  },
  {
   "cell_type": "code",
   "execution_count": 34,
   "id": "4b7f8b3a",
   "metadata": {},
   "outputs": [],
   "source": [
    "if __name__==\"__main__\":\n",
    "    if plugged:\n",
    "        if bpercent>80 and bpercent<90:\n",
    "            notification.notify(\n",
    "                title=\"battery status\",\n",
    "                message=f\"For better battery life charge upto 80%,battery remaining{bpercent}%\",\n",
    "                app_icon = r\"C:\\Users\\Lenovo\\Downloads\\Oxygen-Icons.org-Oxygen-Status-battery-charging.ico\",\n",
    "                timeout=5,\n",
    "                ticker=\"battery\")\n",
    "        elif bpercent ==100:\n",
    "            notification.notify(\n",
    "                title=\"battery status\",\n",
    "                message=\"Fully charged,Please plug out the charger\",\n",
    "                timeout=10,\n",
    "                app_icon = r\"C:\\Users\\Lenovo\\Downloads\\Oxygen-Icons.org-Oxygen-Status-battery-charging.ico\",\n",
    "                ticker=\"battery\")\n",
    "        else:\n",
    "            notification.notify(\n",
    "                title=\"plugged in\",\n",
    "                message=f\"For better battery life charge upto 80%,battery remaining {bpercent}%\",\n",
    "                timeout=5,\n",
    "                app_icon = r\"C:\\Users\\Lenovo\\Downloads\\Oxygen-Icons.org-Oxygen-Status-battery-charging.ico\",\n",
    "                ticker=\"battery\")\n",
    "    else:\n",
    "        if bpercent<20:\n",
    "            notification.notify(\n",
    "                title=\"battery status\",\n",
    "                message=f\"!!plug in charger!! battery {bpercent}% only {hour} hours,{min} minutes,{sec} seconds remaining\",\n",
    "                app_icon=r\"C:\\Users\\Lenovo\\Downloads\\Graphicloads-Battery-Battery-bar-1.ico\",\n",
    "                timeout=10,\n",
    "                \n",
    "                ticker=\"battery\")\n",
    "        elif bpercent>40 and bpercent<80:\n",
    "            notification.notify(\n",
    "                title=\"battery status\",\n",
    "                message=f\"battery remaining {bpercent}% {hour} hours,{min} minutes,{sec} seconds remaining\",\n",
    "                timeout=5,\n",
    "                app_icon=r\"C:\\Users\\Lenovo\\Downloads\\Oxygen-Icons.org-Oxygen-Status-battery-080.ico\",\n",
    "                ticker=\"battery\"\n",
    "                \n",
    "                )\n",
    "        else:\n",
    "            notification.notify(\n",
    "                title=\"battery status\",\n",
    "                message=\"charged\",\n",
    "                timeout=5,\n",
    "                app_icon=r\"C:\\Users\\Lenovo\\Downloads\\Icons-Land-Vista-Hardware-Devices-Battery-Power-Full.ico\",\n",
    "                ticker=\"battery\")\n",
    "        \n",
    "        \n",
    "        \n",
    "            \n",
    "            "
   ]
  },
  {
   "cell_type": "code",
   "execution_count": null,
   "id": "fa009416",
   "metadata": {},
   "outputs": [],
   "source": []
  }
 ],
 "metadata": {
  "kernelspec": {
   "display_name": "Python 3 (ipykernel)",
   "language": "python",
   "name": "python3"
  },
  "language_info": {
   "codemirror_mode": {
    "name": "ipython",
    "version": 3
   },
   "file_extension": ".py",
   "mimetype": "text/x-python",
   "name": "python",
   "nbconvert_exporter": "python",
   "pygments_lexer": "ipython3",
   "version": "3.10.4"
  }
 },
 "nbformat": 4,
 "nbformat_minor": 5
}
